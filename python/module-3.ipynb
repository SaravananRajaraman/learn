{
 "cells": [
  {
   "cell_type": "code",
   "execution_count": 25,
   "metadata": {},
   "outputs": [
    {
     "name": "stdout",
     "output_type": "stream",
     "text": [
      "File created ... \n"
     ]
    }
   ],
   "source": [
    "# Dealing with files\n",
    "    \n",
    "# Creating file\n",
    "\n",
    "file = open(\"/Users/v4/saravanan/myGits/learn/python/dummy.txt\", \"x\")\n",
    "\n",
    "file.write(\"12345 | Saravanan \\n\")\n",
    "file.write(\"54321 | Sivaram \\n\")\n",
    "file.write(\"98765 | Rajesh\\n\")\n",
    "\n",
    "print(\"File created ... \")\n",
    "file.close()"
   ]
  },
  {
   "cell_type": "code",
   "execution_count": 26,
   "metadata": {},
   "outputs": [
    {
     "name": "stdout",
     "output_type": "stream",
     "text": [
      "12345 | Saravanan \n",
      "54321 | Sivaram \n",
      "98765 | Rajesh\n",
      "\n"
     ]
    }
   ],
   "source": [
    "# Reading the file\n",
    "\n",
    "file = open(\"/Users/v4/saravanan/myGits/learn/python/dummy.txt\", \"r\")\n",
    "\n",
    "print(file.read())\n",
    "\n",
    "file.close()"
   ]
  },
  {
   "cell_type": "code",
   "execution_count": 27,
   "metadata": {},
   "outputs": [
    {
     "name": "stdout",
     "output_type": "stream",
     "text": [
      "['12345 ', ' Saravanan \\n']\n",
      "['54321 ', ' Sivaram \\n']\n",
      "['98765 ', ' Rajesh\\n']\n"
     ]
    }
   ],
   "source": [
    "# Reading and modify the splits\n",
    "\n",
    "file = open(\"/Users/v4/saravanan/myGits/learn/python/dummy.txt\", \"r\")\n",
    "\n",
    "for records in file:\n",
    "    record = records.split('|')\n",
    "    print(record)"
   ]
  },
  {
   "cell_type": "code",
   "execution_count": 28,
   "metadata": {},
   "outputs": [
    {
     "name": "stdout",
     "output_type": "stream",
     "text": [
      "File updated\n",
      "12345 | Saravanan \n",
      "54321 | Sivaram \n",
      "98765 | Rajesh\n",
      "67849 | Rajaguru\n",
      "\n"
     ]
    }
   ],
   "source": [
    "# Update the file\n",
    "\n",
    "file = open(\"/Users/v4/saravanan/myGits/learn/python/dummy.txt\", \"a\")\n",
    "file.write(\"67849 | Rajaguru\\n\")\n",
    "print(\"File updated\")\n",
    "file.close()\n",
    "file = open(\"/Users/v4/saravanan/myGits/learn/python/dummy.txt\", \"r\")\n",
    "print(file.read())\n",
    "file.close()\n"
   ]
  },
  {
   "cell_type": "code",
   "execution_count": 29,
   "metadata": {},
   "outputs": [
    {
     "name": "stdout",
     "output_type": "stream",
     "text": [
      "File overrided\n",
      "12345 | Saravanan\n",
      "\n"
     ]
    }
   ],
   "source": [
    "# Override the file\n",
    "\n",
    "file = open(\"/Users/v4/saravanan/myGits/learn/python/dummy.txt\", \"w\")\n",
    "file.write(\"12345 | Saravanan\\n\")\n",
    "print(\"File overrided\")\n",
    "file.close()\n",
    "file = open(\"/Users/v4/saravanan/myGits/learn/python/dummy.txt\", \"r\")\n",
    "print(file.read())\n",
    "file.close()"
   ]
  },
  {
   "cell_type": "code",
   "execution_count": 30,
   "metadata": {},
   "outputs": [
    {
     "name": "stdout",
     "output_type": "stream",
     "text": [
      "File deleted\n"
     ]
    }
   ],
   "source": [
    "# Delete a file\n",
    "import os\n",
    "if os.path.exists(\"/Users/v4/saravanan/myGits/learn/python/dummy.txt\"):\n",
    "    os.remove(\"/Users/v4/saravanan/myGits/learn/python/dummy.txt\")\n",
    "    print(\"File deleted\")\n",
    "    "
   ]
  },
  {
   "cell_type": "code",
   "execution_count": null,
   "metadata": {},
   "outputs": [],
   "source": [
    "# Need to looks for Pandas"
   ]
  }
 ],
 "metadata": {
  "kernelspec": {
   "display_name": "Python 3",
   "language": "python",
   "name": "python3"
  },
  "language_info": {
   "codemirror_mode": {
    "name": "ipython",
    "version": 3
   },
   "file_extension": ".py",
   "mimetype": "text/x-python",
   "name": "python",
   "nbconvert_exporter": "python",
   "pygments_lexer": "ipython3",
   "version": "3.7.4"
  }
 },
 "nbformat": 4,
 "nbformat_minor": 4
}
